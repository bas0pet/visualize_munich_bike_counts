{
 "cells": [
  {
   "cell_type": "markdown",
   "metadata": {},
   "source": [
    "# Download data from \"https://www.opengov-muenchen.de\"\n",
    "* licensed with: \"Datenquelle: dl-de/by-2-0:\n",
    "Landeshauptstadt München – Kommunalreferat – GeodatenService – www.geodatenservice-muenchen.de\""
   ]
  },
  {
   "cell_type": "code",
   "execution_count": 1,
   "metadata": {},
   "outputs": [],
   "source": [
    "from glob import glob\n",
    "import pandas as pd\n",
    "\n",
    "from bikes.scrape_data import search_open_data_portal, get_downloadable_data, download_data"
   ]
  },
  {
   "cell_type": "code",
   "execution_count": 2,
   "metadata": {},
   "outputs": [],
   "source": [
    "BASEURL = \"https://www.opengov-muenchen.de\""
   ]
  },
  {
   "cell_type": "code",
   "execution_count": 3,
   "metadata": {},
   "outputs": [],
   "source": [
    "url = \"https://www.opengov-muenchen.de/dataset?q=&tags=Raddauerz%C3%A4hlstellen&sort=metadata_modified+desc&page=1\""
   ]
  },
  {
   "cell_type": "code",
   "execution_count": 4,
   "metadata": {
    "scrolled": false
   },
   "outputs": [
    {
     "name": "stdout",
     "output_type": "stream",
     "text": [
      "umber of files to download: 65\n",
      "Skipping: https://www.opengov-muenchen.de/dataset/126c1d3d-3bd2-4286-9d99-c2e36930979c/resource/8c548b17-ceaa-464b-bcac-11ad7ee5a3d0/download/rad20190815min.csv\n",
      "Skipping: https://www.opengov-muenchen.de/dataset/126c1d3d-3bd2-4286-9d99-c2e36930979c/resource/3d567619-28dd-443d-ae16-3ff92cf96aa8/download/rad201908tage.csv\n",
      "Skipping: https://www.opengov-muenchen.de/dataset/ca7130ef-8115-4975-ab0b-8092576b068c/resource/979f5a27-d881-4257-b863-b758e6d78595/download/rad20190715min.csv\n",
      "Skipping: https://www.opengov-muenchen.de/dataset/ca7130ef-8115-4975-ab0b-8092576b068c/resource/4dba28f0-bb46-45fb-9e1e-e8cf22085f2e/download/rad201907tage.csv\n",
      "Skipping: https://www.opengov-muenchen.de/dataset/2778adcb-f051-4837-adec-34dc19343f30/resource/87728670-5788-415a-9ed4-0bbb5a859c51/download/rad20190615min.csv\n",
      "Skipping: https://www.opengov-muenchen.de/dataset/2778adcb-f051-4837-adec-34dc19343f30/resource/422569b2-e753-4bfc-8e05-51b79c290cda/download/rad201906tage.csv\n",
      "Skipping: https://www.opengov-muenchen.de/dataset/235da1b4-b1f4-4406-bae1-e53169e03887/resource/2cc580da-89d0-4e4c-968c-82b391338bb0/download/rad20190515min.csv\n",
      "Skipping: https://www.opengov-muenchen.de/dataset/235da1b4-b1f4-4406-bae1-e53169e03887/resource/59ccd361-90ed-41a9-b251-590e16e9a763/download/rad201905tage.csv\n",
      "Skipping: https://www.opengov-muenchen.de/dataset/2285225b-f71a-4a17-84bf-ce1addffd389/resource/e7b36075-4c5f-4059-be8d-49582386b89b/download/rad20190415min.csv\n",
      "Skipping: https://www.opengov-muenchen.de/dataset/2285225b-f71a-4a17-84bf-ce1addffd389/resource/9b106572-b8c8-4f69-bd6f-654e8267c1df/download/rad201904tage.csv\n",
      "Skipping: https://www.opengov-muenchen.de/dataset/72d7cf3d-8218-4895-b928-699c0a200885/resource/f77c81aa-dccc-43d4-9fb6-d53c4aa0487c/download/rad20190315min.csv\n",
      "Skipping: https://www.opengov-muenchen.de/dataset/72d7cf3d-8218-4895-b928-699c0a200885/resource/f1b65131-95ca-43dd-bbb0-56d300ee6331/download/rad201903tage.csv\n",
      "Skipping: https://www.opengov-muenchen.de/dataset/ef88638f-dd93-49a4-8c14-df237fe2c43d/resource/b1b09617-e613-4bcf-809d-6ac92fcd0d1b/download/rad20190215min.csv\n",
      "Skipping: https://www.opengov-muenchen.de/dataset/ef88638f-dd93-49a4-8c14-df237fe2c43d/resource/e454af57-76ca-4e59-960c-ce2490b030d6/download/rad201902tage.csv\n",
      "Skipping: https://www.opengov-muenchen.de/dataset/097f12d3-dc8a-4c83-a6f4-403b8c110540/resource/3dabb519-48d9-47ff-bea5-83e3fadd7b1b/download/rad20190115min.csv\n",
      "Skipping: https://www.opengov-muenchen.de/dataset/097f12d3-dc8a-4c83-a6f4-403b8c110540/resource/685dd828-a7b8-4368-b0ff-963f994e1c52/download/rad201901tage.csv\n",
      "Skipping: https://www.opengov-muenchen.de/dataset/73d4d62b-eb29-445d-80d2-e46764c9569c/resource/ade699ed-fd88-4ba4-a306-8798cf91e021/download/rad20181115min.csv\n",
      "Skipping: https://www.opengov-muenchen.de/dataset/73d4d62b-eb29-445d-80d2-e46764c9569c/resource/52a60289-1bd6-449c-bddd-b8277d9861c8/download/rad201811tage.csv\n",
      "Skipping: https://www.opengov-muenchen.de/dataset/8e74a0b6-3c28-4c86-811f-f0b036546e45/resource/35456ce5-1785-4aa1-b39c-048008440b77/download/rad20181215min.csv\n",
      "Skipping: https://www.opengov-muenchen.de/dataset/8e74a0b6-3c28-4c86-811f-f0b036546e45/resource/0b256f86-66cd-434a-ac8f-d1e994a279d7/download/rad201812tage.csv\n",
      "Skipping: https://www.opengov-muenchen.de/dataset/4352cd03-5993-40d4-9e99-e065d364f12f/resource/2d334e8c-82b6-493f-bf57-0bbc744aa545/download/rad20180915min.csv\n",
      "Skipping: https://www.opengov-muenchen.de/dataset/4352cd03-5993-40d4-9e99-e065d364f12f/resource/fc504fb5-9bfd-4153-9ec9-41421f5e1d7c/download/rad201809tage.csv\n",
      "Skipping: https://www.opengov-muenchen.de/dataset/8c45c9ed-7aac-46d6-99a8-a281cc9f90b3/resource/4feae414-7d7e-43b6-8aba-dd1774e73655/download/rad20181015min.csv\n",
      "Skipping: https://www.opengov-muenchen.de/dataset/8c45c9ed-7aac-46d6-99a8-a281cc9f90b3/resource/f6104439-4f59-4c8d-896f-2b343f49c6af/download/rad201810tage.csv\n",
      "Skipping: https://www.opengov-muenchen.de/dataset/dda40d14-4592-4fe2-8057-21208bc57ec2/resource/c0b9f554-ea43-4d43-8654-57fbcfb079d5/download/rad20170615min.csv\n",
      "Skipping: https://www.opengov-muenchen.de/dataset/dda40d14-4592-4fe2-8057-21208bc57ec2/resource/0dbe1c6e-cf96-41c4-a903-ff1539af6c88/download/rad201706tage.csv\n",
      "Skipping: https://www.opengov-muenchen.de/dataset/c9af32b1-fc32-4099-be51-4df58a577919/resource/74810400-6740-4f23-842d-f1f8618dc8f7/download/rad20170315min.csv\n",
      "Skipping: https://www.opengov-muenchen.de/dataset/c9af32b1-fc32-4099-be51-4df58a577919/resource/9036aca9-729d-44e2-aa8b-8937248bec76/download/rad201703tage.csv\n",
      "Skipping: https://www.opengov-muenchen.de/dataset/72c6ccde-fb30-4129-ba3c-86afb40af405/resource/12e8c6b9-c7f7-47ee-b442-e68dc48fa538/download/rad20170815min.csv\n",
      "Skipping: https://www.opengov-muenchen.de/dataset/72c6ccde-fb30-4129-ba3c-86afb40af405/resource/72056b6a-bfdc-4e8d-96b7-c22b98dc3e69/download/rad201708tage.csv\n",
      "Skipping: https://www.opengov-muenchen.de/dataset/58d3ec0a-240a-4863-8b8a-0f7b6989a9cf/resource/19a4a6f0-946c-4cd4-a8ba-d5cf5f48ce49/download/rad20170715min.csv\n",
      "Skipping: https://www.opengov-muenchen.de/dataset/58d3ec0a-240a-4863-8b8a-0f7b6989a9cf/resource/44e7e8f6-b088-4a4c-9173-5b90240c0924/download/rad201707tage.csv\n",
      "Skipping: https://www.opengov-muenchen.de/dataset/26eeb32f-489b-43d9-ac55-c954c7c643fd/resource/fb305c18-68db-4e95-9dcd-0cf7d163b496/download/rad20180715min.csv\n",
      "Skipping: https://www.opengov-muenchen.de/dataset/26eeb32f-489b-43d9-ac55-c954c7c643fd/resource/7368547c-7118-49bf-9286-e510ea621c58/download/rad201807tage.csv\n",
      "Skipping: https://www.opengov-muenchen.de/dataset/77f13894-918e-481b-af7c-c2b3d40105dc/resource/ba1e478b-d736-4e96-9b7d-53c090b95cb1/download/rad20171215min.csv\n",
      "Skipping: https://www.opengov-muenchen.de/dataset/77f13894-918e-481b-af7c-c2b3d40105dc/resource/9a0a1db6-8273-4b5a-9474-8aefa3a5629f/download/rad201712tage.csv\n",
      "Skipping: https://www.opengov-muenchen.de/dataset/f27430b0-2f95-4b3f-8436-c984377ec3b8/resource/b71ca8a2-d881-4156-86a6-f03eaf326caf/download/rad20171115min.csv\n",
      "Skipping: https://www.opengov-muenchen.de/dataset/f27430b0-2f95-4b3f-8436-c984377ec3b8/resource/48e34f1e-8416-4b4d-8531-727ac2c794aa/download/rad201711tage.csv\n",
      "Skipping: https://www.opengov-muenchen.de/dataset/0305bb19-049d-4204-a38a-41895c61f44e/resource/bdc0744c-dd46-48be-8a33-a08f22140e72/download/rad20171015min.csv\n",
      "Skipping: https://www.opengov-muenchen.de/dataset/0305bb19-049d-4204-a38a-41895c61f44e/resource/3f1b26ff-1fd4-48cd-8187-c248ecb80efd/download/rad201710tage.csv\n",
      "Skipping: https://www.opengov-muenchen.de/dataset/01e93140-0509-42ae-8b7d-2d343797d5a7/resource/05384396-2694-4d39-921b-19bd7f19b038/download/rad20170915min.csv\n",
      "Skipping: https://www.opengov-muenchen.de/dataset/01e93140-0509-42ae-8b7d-2d343797d5a7/resource/06f79d2a-cb8c-49a7-9ab4-739d49083bb5/download/rad201709tage.csv\n",
      "Skipping: https://www.opengov-muenchen.de/dataset/011c0015-8e1c-4c94-af9a-bd5ba118b6e9/resource/9f3b9a02-8782-4e1a-935a-1516fc78b719/download/rad20170115min.csv\n",
      "Skipping: https://www.opengov-muenchen.de/dataset/011c0015-8e1c-4c94-af9a-bd5ba118b6e9/resource/c42b2895-e9df-4c1f-9562-8f3c6839108b/download/rad201701tage.csv\n",
      "Skipping: https://www.opengov-muenchen.de/dataset/4def19b1-7b05-4a0c-ad6d-0d1061e88038/resource/66ab7797-e225-4f20-9dfd-efa1f984fb7d/download/rad201702tage.csv\n",
      "Skipping: https://www.opengov-muenchen.de/dataset/4def19b1-7b05-4a0c-ad6d-0d1061e88038/resource/3c367280-32de-4598-8352-4b2d780214c6/download/rad20170215min.csv\n",
      "Skipping: https://www.opengov-muenchen.de/dataset/b6f69f11-8175-4810-a5e5-699175f01744/resource/6743e71f-60a8-4223-9644-c95b96cd7251/download/rad20170415min.csv\n",
      "Skipping: https://www.opengov-muenchen.de/dataset/b6f69f11-8175-4810-a5e5-699175f01744/resource/71e42786-1992-4186-a0e3-17e41fda0108/download/rad201704tage.csv\n",
      "Skipping: https://www.opengov-muenchen.de/dataset/852f8c2f-e4af-4e24-9d84-45e7f9322f5d/resource/a6a5f3e9-2126-4022-ac77-3f0dcae769ff/download/rad20170515min.csv\n",
      "Skipping: https://www.opengov-muenchen.de/dataset/852f8c2f-e4af-4e24-9d84-45e7f9322f5d/resource/dccf12b3-4df3-4cdc-8b7f-2946b32cb21f/download/rad201705tage.csv\n",
      "Skipping: https://www.opengov-muenchen.de/dataset/aca4bcb6-d0ff-4634-b5b9-8b5d133ab08e/resource/211e882d-fadd-468a-bf8a-0014ae65a393/download/radzaehlstellen.csv\n",
      "Skipping: https://www.opengov-muenchen.de/dataset/e47d63ec-ba1c-409b-bf76-fea0775373cd/resource/43be98e1-e73f-41e3-9327-cf6f7519b90b/download/rad20180315min.csv\n",
      "Skipping: https://www.opengov-muenchen.de/dataset/e47d63ec-ba1c-409b-bf76-fea0775373cd/resource/f1694c61-41e0-47aa-94c0-57992929a6c1/download/rad201803tage.csv\n",
      "Skipping: https://www.opengov-muenchen.de/dataset/29236de7-ec90-402b-a13c-ba3ddeb0bc78/resource/02d5d30f-b63e-4cfc-98c5-4e0ac11586f1/download/rad20180215min.csv\n",
      "Skipping: https://www.opengov-muenchen.de/dataset/29236de7-ec90-402b-a13c-ba3ddeb0bc78/resource/bc25c027-511a-424d-9be9-c1983d2da021/download/rad201802tage.csv\n",
      "Skipping: https://www.opengov-muenchen.de/dataset/261318dd-afd7-4bcf-b7fd-c6c9b4aebbe2/resource/767008cc-34da-42b0-b813-e900e2be9d68/download/rad20180115min.csv\n",
      "Skipping: https://www.opengov-muenchen.de/dataset/261318dd-afd7-4bcf-b7fd-c6c9b4aebbe2/resource/1e26f02e-4e77-48a9-bc40-015b86d190cb/download/rad201801tage.csv\n",
      "Skipping: https://www.opengov-muenchen.de/dataset/4f982f60-73e1-4b9f-95cd-cdf83635c3c7/resource/725b8a9b-78c8-4f93-b5a9-3f1a0bd766d8/download/rad20180415min.csv\n",
      "Skipping: https://www.opengov-muenchen.de/dataset/4f982f60-73e1-4b9f-95cd-cdf83635c3c7/resource/68e6a9e0-2b8c-4e03-9e19-c0b6e09405ae/download/rad201804tage.csv\n",
      "Skipping: https://www.opengov-muenchen.de/dataset/83ce2a0d-7a22-409d-b2a1-2692426b747d/resource/8dd210a2-cd4d-406e-b3be-3af861a9c404/download/rad20180515min.csv\n",
      "Skipping: https://www.opengov-muenchen.de/dataset/83ce2a0d-7a22-409d-b2a1-2692426b747d/resource/b4e6ddd3-715c-4e39-addf-e79e8a1cb02d/download/rad201805tage.csv\n",
      "Skipping: https://www.opengov-muenchen.de/dataset/6467f3c5-d473-4a52-99ee-188dea48ed2d/resource/9d4d7922-f232-4a46-bb26-e23dec7520a1/download/rad20180615min.csv\n",
      "Skipping: https://www.opengov-muenchen.de/dataset/6467f3c5-d473-4a52-99ee-188dea48ed2d/resource/6a2b9e10-b937-48bf-b09a-631a51f8cdd4/download/rad201806tage.csv\n",
      "Skipping: https://www.opengov-muenchen.de/dataset/b2a4dc15-2928-4e94-a0a3-df1177ed6ce7/resource/96f0566e-1811-4e3e-9cdb-e7bc8cddb206/download/rad20180815min.csv\n",
      "Skipping: https://www.opengov-muenchen.de/dataset/b2a4dc15-2928-4e94-a0a3-df1177ed6ce7/resource/cefe233a-a6fa-4b43-92ed-a2266994ff68/download/rad201808tage.csv\n"
     ]
    }
   ],
   "source": [
    "searchlist = search_open_data_portal(url)\n",
    "download_list = get_downloadable_data(searchlist)\n",
    "print('Number of files to download:', len(download_list))\n",
    "download_data(download_list)"
   ]
  },
  {
   "cell_type": "markdown",
   "metadata": {},
   "source": [
    "## Concatenate files"
   ]
  },
  {
   "cell_type": "code",
   "execution_count": 5,
   "metadata": {},
   "outputs": [],
   "source": [
    "def read_csv(file):\n",
    "    df = pd.read_csv(file)\n",
    "    if df.shape[1] == 1:\n",
    "        df = pd.read_csv(file, sep=';')\n",
    "    return df"
   ]
  },
  {
   "cell_type": "code",
   "execution_count": 6,
   "metadata": {},
   "outputs": [],
   "source": [
    "files_15min = sorted(glob('data/*15min.csv'))\n",
    "\n",
    "df_out = None\n",
    "for file in files_15min:\n",
    "    df = read_csv(file)\n",
    "    if df_out is None:\n",
    "        df_out = df\n",
    "    else:\n",
    "        df_out = pd.concat([df_out, df])\n",
    "\n",
    "df_out.to_csv('data/15mins.csv', sep=';', index=False)"
   ]
  },
  {
   "cell_type": "code",
   "execution_count": 7,
   "metadata": {},
   "outputs": [],
   "source": [
    "files_tage = glob('data/*tage.csv')\n",
    "\n",
    "df_out = None\n",
    "for file in files_tage:\n",
    "    df = read_csv(file)\n",
    "    if df_out is None:\n",
    "        df_out = df\n",
    "    else:\n",
    "        df_out = pd.concat([df_out, df])\n",
    "\n",
    "df_out.to_csv('data/days.csv', sep=';', index=False)"
   ]
  }
 ],
 "metadata": {
  "kernelspec": {
   "display_name": "Python [conda env:Anaconda3]",
   "language": "python",
   "name": "conda-env-Anaconda3-py"
  },
  "language_info": {
   "codemirror_mode": {
    "name": "ipython",
    "version": 3
   },
   "file_extension": ".py",
   "mimetype": "text/x-python",
   "name": "python",
   "nbconvert_exporter": "python",
   "pygments_lexer": "ipython3",
   "version": "3.6.6"
  }
 },
 "nbformat": 4,
 "nbformat_minor": 2
}
